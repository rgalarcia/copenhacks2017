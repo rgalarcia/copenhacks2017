{
 "cells": [
  {
   "cell_type": "markdown",
   "metadata": {},
   "source": [
    "# Step 1: Read the economy news from a RSS feed (i.e. CNBC)"
   ]
  },
  {
   "cell_type": "code",
   "execution_count": 136,
   "metadata": {},
   "outputs": [
    {
     "name": "stdout",
     "output_type": "stream",
     "text": [
      "Sears, which has been shuttering stores, announced more steps to right its ship, USA Today reports.\n",
      "Klaus Kleinfeld has resigned from Morgan Stanley&#039;s board and will not stand for election at its annual meeting.\n",
      "A Blackstone executive criticized a Citigroup analyst during the asset manager&#039;s first quarter earnings call Thursday.\n",
      "The moves will target two areas — &quot;living wills&quot; and the designation of what institutions will come under SIFI rules.\n",
      "This software-based process will supplement the bank&#039;s annual review process with more frequently occurring check-ins, the company said.\n",
      "Fed&#039;s Stanley Fischer discusses his views on the market and deregulation in an exclusive wide-ranging interview Friday on CNBC&#039;s &quot;Squawk on the Street.&quot;\n",
      "Fischer attributed much of the slowness both in the economy and the inflation rate to seasonal factors.\n",
      "Minneapolis Fed President Neel Kashkari said that immigration has been a key driver of growth, and without it the economy simply will not grow as fast.\n",
      "Names on the move ahead of the open.\n",
      "Venture capitalists and regional start-ups gathered in Bali to discuss the future of tech.\n",
      "President Donald Trump is expected to sign multiple &quot;financial related&quot; executive actions at the Treasury on Friday, sources said.\n",
      "These are the stocks posting the largest moves after the bell.\n",
      "Analysts had forecast the payment company to report earnings of 79 cents per share on $4.295 billion in revenue, according to Thomson Reuters consensus estimates.\n",
      "The company said it&#039;s planning to file for bankruptcy and will shut down, The Verge reports.\n",
      "From stocks to politics, here&#039;s why today&#039;s rally may have been triggered by multiple factors.\n",
      "AIG shares spiked after a Bloomberg report said the insurer is considering Hamilton Insurance&#039;s Brian Duperreault to be CEO.\n",
      "Current trading indicates that the Fed will not be able to enact the hikes that officials have indicated are on the way.\n",
      "Hedge fund assets increased by $47.2 billion in the first quarter due to performance, according to HFR.\n",
      "Virtu Financial on Thursday said it agreed to acquire and KCG Holdings in an all-cash deal valued about $1.4 billion.\n",
      "Powell said parts of too-big-to-fail regulations were &quot;inappropriately applied to small and medium-sized&quot; banks.\n",
      "Names on the move ahead of the open.\n",
      "Canaccord Genuity chief equity strategist Tony Dwyer says he&#039;s almost ready to come off the sidelines.\n",
      "Credit Suisse&#039;s Nannette Hechler shares her views on investing in megatrends.\n",
      "Wells Fargo &amp; Co&#039;s largest investor, Warren Buffett, has likely already voted his shares to support the bank&#039;s recommendations at its contentious annual shareholder meeting.\n",
      "Beijing confirmed on Wednesday Interpol had issued a &quot;red notice&quot; seeking the arrest of Guo Wengui, the SCMP reports.\n",
      "See which stocks are posting big moves after the bell.\n",
      "Stanley Fischer, vice chairman of the Federal Reserve, said that spillovers from tightening &quot;will be manageable.&quot;\n",
      "March saw money came back into the $3.1 trillion industry at the fastest pace since August 2015\n",
      "Morgan Stanley didn&#039;t just hit its earnings target, it hit it out of the park, confirming that chief rival Goldman Sachs made a mess in the first quarter.\n",
      "Traders have been staring at their hands for weeks as stocks have been drifting lower since hitting historic highs.\n"
     ]
    }
   ],
   "source": [
    "import feedparser\n",
    "import HTMLParser as parser\n",
    "import re\n",
    "from time import mktime\n",
    "from datetime import datetime\n",
    "d = feedparser.parse('http://www.cnbc.com/id/10000664/device/rss/rss.html')\n",
    "\n",
    "news_title = []\n",
    "news_date = []\n",
    "news_text = []\n",
    "for entry in d.entries:\n",
    "    news_title.append(entry.title)\n",
    "    dt = str(datetime.fromtimestamp(mktime(entry.published_parsed)))\n",
    "    dt = dt[0]+dt[1]+dt[2]+dt[3]+dt[5]+dt[6]+dt[8]+dt[9]\n",
    "    news_date.append(dt)\n",
    "    news = entry.summary\n",
    "    text = re.sub('<[^<]+?>', '', entry.summary).strip()\n",
    "    text = text.encode('utf-8')\n",
    "    news_text.append(text)\n",
    "    print(text)"
   ]
  },
  {
   "cell_type": "markdown",
   "metadata": {},
   "source": [
    "# Parse the news' content, using Microsoft Cognitive Services"
   ]
  },
  {
   "cell_type": "code",
   "execution_count": 137,
   "metadata": {},
   "outputs": [
    {
     "name": "stdout",
     "output_type": "stream",
     "text": [
      "Text: Sears, which has been shuttering stores, announced more steps to right its ship, USA Today reports.\n",
      "Score: 0.5\n",
      "\n",
      "\n",
      "Text: Klaus Kleinfeld has resigned from Morgan Stanley&#039;s board and will not stand for election at its annual meeting.\n",
      "Score: 0.133399733367\n",
      "\n",
      "\n",
      "Text: A Blackstone executive criticized a Citigroup analyst during the asset manager&#039;s first quarter earnings call Thursday.\n",
      "Score: 0.83865520198\n",
      "\n",
      "\n",
      "Text: The moves will target two areas — &quot;living wills&quot; and the designation of what institutions will come under SIFI rules.\n",
      "Score: 0.5\n",
      "\n",
      "\n",
      "Text: This software-based process will supplement the bank&#039;s annual review process with more frequently occurring check-ins, the company said.\n",
      "Score: 0.5\n",
      "\n",
      "\n",
      "Text: Fed&#039;s Stanley Fischer discusses his views on the market and deregulation in an exclusive wide-ranging interview Friday on CNBC&#039;s &quot;Squawk on the Street.&quot;\n",
      "Score: 0.867714777199\n",
      "\n",
      "\n",
      "Text: Fischer attributed much of the slowness both in the economy and the inflation rate to seasonal factors.\n",
      "Score: 0.5\n",
      "\n",
      "\n",
      "Text: Minneapolis Fed President Neel Kashkari said that immigration has been a key driver of growth, and without it the economy simply will not grow as fast.\n",
      "Score: 0.5\n",
      "\n",
      "\n",
      "Text: Names on the move ahead of the open.\n",
      "Score: 0.5\n",
      "\n",
      "\n",
      "Text: Venture capitalists and regional start-ups gathered in Bali to discuss the future of tech.\n",
      "Score: 0.5\n",
      "\n",
      "\n",
      "Text: President Donald Trump is expected to sign multiple &quot;financial related&quot; executive actions at the Treasury on Friday, sources said.\n",
      "Score: 0.921334161958\n",
      "\n",
      "\n",
      "Text: These are the stocks posting the largest moves after the bell.\n",
      "Score: 0.5\n",
      "\n",
      "\n",
      "Text: Analysts had forecast the payment company to report earnings of 79 cents per share on $4.295 billion in revenue, according to Thomson Reuters consensus estimates.\n",
      "Score: 0.874172758053\n",
      "\n",
      "\n",
      "Text: The company said it&#039;s planning to file for bankruptcy and will shut down, The Verge reports.\n",
      "Score: 0.5\n",
      "\n",
      "\n",
      "Text: From stocks to politics, here&#039;s why today&#039;s rally may have been triggered by multiple factors.\n",
      "Score: 0.5\n",
      "\n",
      "\n",
      "Text: AIG shares spiked after a Bloomberg report said the insurer is considering Hamilton Insurance&#039;s Brian Duperreault to be CEO.\n",
      "Score: 0.746936799005\n",
      "\n",
      "\n",
      "Text: Current trading indicates that the Fed will not be able to enact the hikes that officials have indicated are on the way.\n",
      "Score: 0.266994373948\n",
      "\n",
      "\n",
      "Text: Hedge fund assets increased by $47.2 billion in the first quarter due to performance, according to HFR.\n",
      "Score: 0.992944743087\n",
      "\n",
      "\n",
      "Text: Virtu Financial on Thursday said it agreed to acquire and KCG Holdings in an all-cash deal valued about $1.4 billion.\n",
      "Score: 0.981044096799\n",
      "\n",
      "\n",
      "Text: Powell said parts of too-big-to-fail regulations were &quot;inappropriately applied to small and medium-sized&quot; banks.\n",
      "Score: 0.196151307553\n",
      "\n",
      "\n",
      "Text: Names on the move ahead of the open.\n",
      "Score: 0.5\n",
      "\n",
      "\n",
      "Text: Canaccord Genuity chief equity strategist Tony Dwyer says he&#039;s almost ready to come off the sidelines.\n",
      "Score: 0.822276162444\n",
      "\n",
      "\n",
      "Text: Credit Suisse&#039;s Nannette Hechler shares her views on investing in megatrends.\n",
      "Score: 0.98036601474\n",
      "\n",
      "\n",
      "Text: Wells Fargo &amp; Co&#039;s largest investor, Warren Buffett, has likely already voted his shares to support the bank&#039;s recommendations at its contentious annual shareholder meeting.\n",
      "Score: 0.99232471773\n",
      "\n",
      "\n",
      "Text: Beijing confirmed on Wednesday Interpol had issued a &quot;red notice&quot; seeking the arrest of Guo Wengui, the SCMP reports.\n",
      "Score: 0.261940529208\n",
      "\n",
      "\n",
      "Text: See which stocks are posting big moves after the bell.\n",
      "Score: 0.5\n",
      "\n",
      "\n",
      "Text: Stanley Fischer, vice chairman of the Federal Reserve, said that spillovers from tightening &quot;will be manageable.&quot;\n",
      "Score: 0.684624434314\n",
      "\n",
      "\n",
      "Text: March saw money came back into the $3.1 trillion industry at the fastest pace since August 2015\n",
      "Score: 0.5\n",
      "\n",
      "\n",
      "Text: Morgan Stanley didn&#039;t just hit its earnings target, it hit it out of the park, confirming that chief rival Goldman Sachs made a mess in the first quarter.\n",
      "Score: 0.0580879086445\n",
      "\n",
      "\n",
      "Text: Traders have been staring at their hands for weeks as stocks have been drifting lower since hitting historic highs.\n",
      "Score: 0.131232128091\n",
      "\n",
      "\n"
     ]
    }
   ],
   "source": [
    "import urllib2\n",
    "import urllib\n",
    "import sys\n",
    "import base64\n",
    "import json\n",
    "from collections import OrderedDict\n",
    "import simplejson as sj\n",
    "\n",
    "# Azure portal URL.\n",
    "base_url = 'https://westus.api.cognitive.microsoft.com/'\n",
    "account_key = '16f9c7afa4684cee89f276d4ac3668f7'\n",
    "headers = {'Content-Type':'application/json', 'Ocp-Apim-Subscription-Key':account_key}\n",
    "\n",
    "# Input data information\n",
    "sentiment_values = []\n",
    "for elem in news_text:\n",
    "    data = []\n",
    "    data.append(OrderedDict())\n",
    "    data[0]['language'] = 'en'\n",
    "    data[0]['id'] = '1'\n",
    "    data[0]['text'] = elem\n",
    "    data_parent = OrderedDict()\n",
    "    data_parent[\"documents\"] = data\n",
    "\n",
    "    input_texts = sj.dumps(data_parent)\n",
    "    #print(input_texts)\n",
    "\n",
    "    # Detect sentiment.\n",
    "    batch_sentiment_url = base_url + 'text/analytics/v2.0/sentiment'\n",
    "    req = urllib2.Request(batch_sentiment_url, input_texts, headers) \n",
    "    response = urllib2.urlopen(req)\n",
    "    result = response.read()\n",
    "    obj = json.loads(result)\n",
    "    for sentiment_analysis in obj['documents']:\n",
    "        print('Text: ' + str(elem))\n",
    "        print('Score: ' + str(sentiment_analysis['score']))\n",
    "        sentiment_values.append(sentiment_analysis['score'])\n",
    "        print('\\n')"
   ]
  },
  {
   "cell_type": "markdown",
   "metadata": {},
   "source": [
    "# Plot the results (how does the sentiment evolve over time?)"
   ]
  },
  {
   "cell_type": "code",
   "execution_count": 138,
   "metadata": {},
   "outputs": [
    {
     "data": {
      "image/png": "[encoded data removed]",
      "text/plain": [
       "<matplotlib.figure.Figure at 0x7f78e5af4c90>"
      ]
     },
     "metadata": {},
     "output_type": "display_data"
    }
   ],
   "source": [
    "import matplotlib\n",
    "import matplotlib.pyplot as plt\n",
    "plt.plot(news_date, sentiment_values)\n",
    "plt.show()"
   ]
  },
  {
   "cell_type": "markdown",
   "metadata": {},
   "source": [
    "# Step 2: Extract stock information (i.e. from Markitondemand API)"
   ]
  },
  {
   "cell_type": "markdown",
   "metadata": {},
   "source": [
    "#### As data from a whole stock market index is not available, data from Google value in Nasdaq (GOOG) is used "
   ]
  },
  {
   "cell_type": "code",
   "execution_count": 139,
   "metadata": {},
   "outputs": [
    {
     "name": "stdout",
     "output_type": "stream",
     "text": [
      "{\"Normalized\": \"false\", \"NumberOfDays\": 4, \"DataPeriod\": \"Day\", \"Elements\": [{\"Symbol\": \"GOOG\", \"Type\": \"price\", \"Params\": [\"c\"]}]}\n"
     ]
    }
   ],
   "source": [
    "import requests\n",
    "import simplejson as sj\n",
    "from collections import OrderedDict\n",
    "\n",
    "import urllib\n",
    "url = 'http://dev.markitondemand.com/MODApis/Api/v2/InteractiveChart/json?parameters='\n",
    "data = []\n",
    "data.append(OrderedDict())\n",
    "data[0][\"Normalized\"] = \"false\"\n",
    "data[0][\"NumberOfDays\"] = 4\n",
    "data[0][\"DataPeriod\"] = \"Day\"\n",
    "data[0][\"Elements\"] = []\n",
    "data[0][\"Elements\"].append(OrderedDict())\n",
    "data[0][\"Elements\"][0][\"Symbol\"] = \"GOOG\"\n",
    "data[0][\"Elements\"][0][\"Type\"] = \"price\"\n",
    "data[0][\"Elements\"][0][\"Params\"] = ['c']\n",
    "\n",
    "json_data = sj.dumps(data)\n",
    "json_data_len = len(json_data)\n",
    "json_data = json_data[1:json_data_len-1]\n",
    "\n",
    "print(json_data)\n",
    "url = url+json_data\n",
    "r = requests.get(url)\n",
    "parse = sj.loads(r.text)\n",
    "\n",
    "dates = parse['Dates']\n",
    "\n",
    "elements = sj.loads(sj.dumps(parse['Elements']))\n",
    "values = elements[0]['DataSeries']['close']['values']\n",
    "\n",
    "i = 1\n",
    "if (len(dates) == len(values)):\n",
    "    dates_vec = []\n",
    "    values_vec = []\n",
    "    for e in dates:\n",
    "        i += 1\n",
    "        #dates_vec.append(i)\n",
    "        dates_vec.append(e[0]+e[1]+e[2]+e[3]+e[5]+e[6]+e[8]+e[9])\n",
    "    for e in values:\n",
    "        values_vec.append(e)"
   ]
  },
  {
   "cell_type": "markdown",
   "metadata": {},
   "source": [
    "# Plot the results (how does the stock market evolve over time?)"
   ]
  },
  {
   "cell_type": "code",
   "execution_count": 140,
   "metadata": {},
   "outputs": [
    {
     "data": {
      "image/png": "[encoded data removed]",
      "text/plain": [
       "<matplotlib.figure.Figure at 0x7f78e5dc22d0>"
      ]
     },
     "metadata": {},
     "output_type": "display_data"
    }
   ],
   "source": [
    "import matplotlib\n",
    "import matplotlib.pyplot as plt\n",
    "plt.plot(dates_vec, values_vec)\n",
    "plt.title('Stock market info')\n",
    "plt.show()"
   ]
  },
  {
   "cell_type": "markdown",
   "metadata": {},
   "source": [
    "# Step 3: Cleanse results (first sample correlation)"
   ]
  },
  {
   "cell_type": "code",
   "execution_count": 158,
   "metadata": {},
   "outputs": [
    {
     "name": "stdout",
     "output_type": "stream",
     "text": [
      "20170419\n",
      "20170420\n",
      "20170421\n",
      "\n",
      "\n",
      "[0.5, 0.13339973336692, 0.838655201980215, 0.5, 0.5]\n",
      "[0.867714777198795, 0.5, 0.5, 0.5, 0.5, 0.921334161958416, 0.5, 0.874172758053192, 0.5, 0.5, 0.746936799005045, 0.266994373947715, 0.992944743087147, 0.981044096799288]\n",
      "[0.196151307553089, 0.5, 0.822276162444183, 0.980366014740147, 0.992324717729719, 0.261940529208335, 0.5, 0.684624434313836, 0.5, 0.0580879086444872, 0.13123212809081]\n",
      "\n",
      "\n",
      "0.494410987069\n",
      "0.653652979289\n",
      "0.511545745702\n"
     ]
    }
   ],
   "source": [
    "import numpy\n",
    "news_date2 = list(reversed(news_date))\n",
    "i = 0\n",
    "indexes_array = []\n",
    "for element in dates_vec:\n",
    "    print(element)\n",
    "    indexes_array.append(news_date2.index(element))\n",
    "\n",
    "print('\\n')    \n",
    "\n",
    "cnt = 0\n",
    "final_sent_arr = []\n",
    "\n",
    "i = 0\n",
    "while i < len(indexes_array):\n",
    "    if (i == len(indexes_array)-1):\n",
    "        nou_arr = sentiment_values[indexes_array[i]:len(news_date2)]\n",
    "    else:\n",
    "        nou_arr = sentiment_values[indexes_array[i]:indexes_array[i+1]]\n",
    "    print(nou_arr)\n",
    "    final_sent_arr.append(numpy.mean(nou_arr))\n",
    "    i += 1\n",
    "\n",
    "print('\\n')\n",
    "for elt in final_sent_arr:\n",
    "    print(elt)"
   ]
  },
  {
   "cell_type": "markdown",
   "metadata": {},
   "source": [
    "# Step 4: Apply a simple TensorFlow model"
   ]
  },
  {
   "cell_type": "markdown",
   "metadata": {},
   "source": [
    "### We use a quadratic model (function with the form of f(x)=a*x²+b*x+c) in order to best approximate the values that the market takes as a function of the sentiments emitted by the economic news. What TF will do is determine the values of the constants a, b, and c."
   ]
  },
  {
   "cell_type": "code",
   "execution_count": 160,
   "metadata": {},
   "outputs": [
    {
     "name": "stdout",
     "output_type": "stream",
     "text": [
      "[array([-107.76254272], dtype=float32), array([ 141.12240601], dtype=float32), array([ 813.97241211], dtype=float32)]\n"
     ]
    }
   ],
   "source": [
    "import tensorflow as tf\n",
    "sess = tf.Session()\n",
    "a = tf.Variable([.0], tf.float32)\n",
    "b = tf.Variable([.0], tf.float32)\n",
    "c = tf.Variable([.0], tf.float32)\n",
    "x = tf.placeholder(tf.float32)\n",
    "tf_model = a*x*x + b*x + c\n",
    "init = tf.global_variables_initializer()\n",
    "\n",
    "\n",
    "y = tf.placeholder(tf.float32)\n",
    "squared_deltas = tf.square(tf_model - y)\n",
    "loss = tf.reduce_sum(squared_deltas)\n",
    "\n",
    "optimizer = tf.train.GradientDescentOptimizer(0.01)\n",
    "train = optimizer.minimize(loss)\n",
    "\n",
    "sess.run(init)\n",
    "for i in range(100000):\n",
    "    sess.run(train, {x: final_sent_arr, y: values_vec})\n",
    "    \n",
    "print sess.run([a, b, c])"
   ]
  },
  {
   "cell_type": "markdown",
   "metadata": {},
   "source": [
    "# Step 5: Use the model produced by TensorFlow to simulate the market"
   ]
  },
  {
   "cell_type": "code",
   "execution_count": 185,
   "metadata": {
    "collapsed": true
   },
   "outputs": [],
   "source": [
    "#Let's suppose two different scenarios, with news trasmitting bad and good vibes\n",
    "title_bad = 'Worried economists ask the Government to take action to prevent a real estate bubble'\n",
    "title_good = 'The ECB releases new optimistic predictions showing higher GDP growth'"
   ]
  },
  {
   "cell_type": "code",
   "execution_count": 186,
   "metadata": {},
   "outputs": [
    {
     "name": "stdout",
     "output_type": "stream",
     "text": [
      "{\"documents\": [{\"language\": \"en\", \"id\": \"1\", \"text\": \"Worried economists ask the Government to take action to prevent a real estate bubble\"}]}\n",
      "Score: 0.130245364287\n",
      "\n",
      "\n",
      "{\"documents\": [{\"language\": \"en\", \"id\": \"1\", \"text\": \"The ECB releases new optimistic predictions showing higher GDP growth\"}]}\n",
      "Score: 0.971520386398\n",
      "\n",
      "\n"
     ]
    }
   ],
   "source": [
    "import urllib2\n",
    "import urllib\n",
    "import sys\n",
    "import base64\n",
    "import json\n",
    "from collections import OrderedDict\n",
    "import simplejson as sj\n",
    "\n",
    "# Azure portal URL.\n",
    "base_url = 'https://westus.api.cognitive.microsoft.com/'\n",
    "account_key = '16f9c7afa4684cee89f276d4ac3668f7'\n",
    "headers = {'Content-Type':'application/json', 'Ocp-Apim-Subscription-Key':account_key}\n",
    "\n",
    "# Input data information 1\n",
    "data = []\n",
    "data.append(OrderedDict())\n",
    "data[0]['language'] = 'en'\n",
    "data[0]['id'] = '1'\n",
    "data[0]['text'] = title_bad\n",
    "data_parent = OrderedDict()\n",
    "data_parent[\"documents\"] = data\n",
    "\n",
    "input_texts = sj.dumps(data_parent)\n",
    "print(input_texts)\n",
    "\n",
    "# Detect sentiment for news 1\n",
    "batch_sentiment_url = base_url + 'text/analytics/v2.0/sentiment'\n",
    "req = urllib2.Request(batch_sentiment_url, input_texts, headers) \n",
    "response = urllib2.urlopen(req)\n",
    "result = response.read()\n",
    "obj = json.loads(result)\n",
    "for sentiment_analysis in obj['documents']:\n",
    "    print('Score: ' + str(sentiment_analysis['score']))\n",
    "    sentiment_values.append(sentiment_analysis['score'])\n",
    "    print('\\n')\n",
    "\n",
    "# Input data information 2\n",
    "data[0]['text'] = title_good\n",
    "\n",
    "input_texts = sj.dumps(data_parent)\n",
    "print(input_texts)\n",
    "\n",
    "# Detect sentiment for news 2\n",
    "batch_sentiment_url = base_url + 'text/analytics/v2.0/sentiment'\n",
    "req = urllib2.Request(batch_sentiment_url, input_texts, headers) \n",
    "response = urllib2.urlopen(req)\n",
    "result = response.read()\n",
    "obj = json.loads(result)\n",
    "for sentiment_analysis in obj['documents']:\n",
    "    print('Score: ' + str(sentiment_analysis['score']))\n",
    "    sentiment_values.append(sentiment_analysis['score'])\n",
    "    print('\\n')"
   ]
  },
  {
   "cell_type": "markdown",
   "metadata": {},
   "source": [
    "#### As we can see, and as expected, the second news is detected as more positive than the first one. Now, using these data:"
   ]
  },
  {
   "cell_type": "code",
   "execution_count": 192,
   "metadata": {},
   "outputs": [
    {
     "name": "stdout",
     "output_type": "stream",
     "text": [
      "830.52488315\n",
      "849.363830014\n"
     ]
    }
   ],
   "source": [
    "a = -107.76254272\n",
    "b = 141.12240601\n",
    "c = 813.97241211\n",
    "\n",
    "x1 = 0.130245364287\n",
    "x2 = 0.971520386398\n",
    "\n",
    "y1 = a*x1*x1 + b*x1 + c\n",
    "y2 = a*x2*x2 + b*x2 + c\n",
    "\n",
    "print(y1)\n",
    "print(y2)"
   ]
  },
  {
   "cell_type": "markdown",
   "metadata": {},
   "source": [
    "#### And, of course, this results in a higher value of the Google shares for the second case."
   ]
  }
 ],
 "metadata": {
  "kernelspec": {
   "display_name": "Python 2",
   "language": "python",
   "name": "python2"
  },
  "language_info": {
   "codemirror_mode": {
    "name": "ipython",
    "version": 2
   },
   "file_extension": ".py",
   "mimetype": "text/x-python",
   "name": "python",
   "nbconvert_exporter": "python",
   "pygments_lexer": "ipython2",
   "version": "2.7.13"
  }
 },
 "nbformat": 4,
 "nbformat_minor": 2
}
